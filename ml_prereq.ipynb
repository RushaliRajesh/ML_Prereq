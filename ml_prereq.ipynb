{
  "nbformat": 4,
  "nbformat_minor": 0,
  "metadata": {
    "colab": {
      "provenance": []
    },
    "kernelspec": {
      "name": "python3",
      "display_name": "Python 3"
    },
    "language_info": {
      "name": "python"
    }
  },
  "cells": [
    {
      "cell_type": "markdown",
      "source": [
        "**Answer 1:** the total number of multiplications will be equal to $n*k*m$ and that of additions will be equal to $n*(k-1)*m$. \n",
        "\n",
        "Explanation:\n",
        "\n",
        "This is because the total number of multiplications in multiply a row of the 1st matrix with the column of second matrix is 1 extra as compared to the number of additions it requires. Similarly, the rest of the rows and columns are multipled.\n",
        "\n",
        "eg:\n",
        "\n",
        "$$\\begin{bmatrix} 1 & 2 & 3 \\\\ 3 & 0 & 1 \\end{bmatrix} * \\begin{bmatrix} 1 & 2 \\\\ 3 & 0 \\\\ 2 & 1 \\end{bmatrix} = \\begin{bmatrix} 1*1 + 2*3 + 3*2 & 1*2 + 2*0 + 3*1 \\\\ 3*1 + 0*3 + 1*2 & 3*2 + 0*0 + 1*1 \\end{bmatrix} = \\begin{bmatrix} 13 & 5 \\\\ 5 & 7 \\end{bmatrix}$$ \n",
        "\n",
        "As it can be seen in the multiplication process, consider for the first element calculation, the number of multiplications is 3 and additions is 2. Same way, all the other elements are computed.\n",
        "Since the shapes of the matrices are 2$*$3 and 3$*$2 respectively, the shape of the output matrix would be 2$*$2. Hence the number of elements would be 2$*$2 = 4. So, for each of these 4 elements, the 3 number of multiplications and 2 additions are carried over. Therefore, for this case, (2$*$2)$*$3 = 12 multiplications and (2$*$2)$*$2 additions are performed. Here, n and m are 2 and k is 3 in case of multiplication and 2 (i.e, k-1) in case of addition."
      ],
      "metadata": {
        "id": "t_3jTwKvxWaL"
      }
    },
    {
      "cell_type": "code",
      "source": [],
      "metadata": {
        "id": "e4zW8fDw6FDR"
      },
      "execution_count": null,
      "outputs": []
    },
    {
      "cell_type": "markdown",
      "source": [
        "**Answer 2:**"
      ],
      "metadata": {
        "id": "V8h1_8eVabEp"
      }
    },
    {
      "cell_type": "code",
      "source": [
        "import numpy as np\n",
        "import pandas as pd\n",
        "import time\n",
        "\n",
        "dt = {}\n",
        "\n",
        "for p, j, k in zip([4,50,230],[3,40,220], [5, 60, 250]):\n",
        "  time_lst = []\n",
        "  time_np = []\n",
        "\n",
        "  for i in range(500):\n",
        "\n",
        "    arr = np.random.randint(k, size=(p,j))\n",
        "    arr2 = np.random.randint(k, size=(j,k))\n",
        "    lst_arr = arr.tolist()\n",
        "    lst_arr2 = arr2.tolist()\n",
        "    #print(arr,lst_arr)\n",
        "\n",
        "    C = [[0 for x in range(k)] for y in range(p)]\n",
        "\n",
        "    start = time.time()\n",
        "    for i in range(p):\n",
        "      for s in range(k):\n",
        "        for r in range(j):\n",
        "          C[i][s] = lst_arr[i][r]*lst_arr2[r][s]\n",
        "\n",
        "    end = time.time()\n",
        "    s = end-start\n",
        "    time_lst.append(s)\n",
        "    #print(s)\n",
        "\n",
        "    start = time.time()\n",
        "    ans = np.matmul(arr,arr2)\n",
        "    end = time.time()\n",
        "    s = end-start\n",
        "    #print(s)\n",
        "    time_np.append(s)\n",
        "    #print(time_np,time_lst)\n",
        "\n",
        "  lst = pd.DataFrame(time_lst)\n",
        "  npl = pd.DataFrame(time_np)\n",
        "\n",
        "    #print(lst.std(), npl.std(), lst.mean(), npl.mean())\n",
        "  dt[p*j*k] = {\n",
        "      'list_std':lst.std().values.tolist(),\n",
        "      'list_mean_time': lst.mean().values.tolist(),\n",
        "      'numpy_std':npl.std().values.tolist(),\n",
        "      'numpy_mean_time':npl.mean().values.tolist()\n",
        "  }\n",
        "    \n",
        "import pprint\n",
        "pprint.pprint(dt)\n"
      ],
      "metadata": {
        "id": "KEctYZ-DT3PT",
        "colab": {
          "base_uri": "https://localhost:8080/"
        },
        "outputId": "6d6f99c3-b9fd-4d75-c60a-2e7416808cf8"
      },
      "execution_count": null,
      "outputs": [
        {
          "output_type": "stream",
          "name": "stdout",
          "text": [
            "{60: {'list_mean_time': [2.3976802825927735e-05],\n",
            "      'list_std': [3.5978706082997006e-06],\n",
            "      'numpy_mean_time': [2.74658203125e-06],\n",
            "      'numpy_std': [4.286923901645568e-06]},\n",
            " 120000: {'list_mean_time': [0.040635129928588865],\n",
            "          'list_std': [0.016663683168869854],\n",
            "          'numpy_mean_time': [0.00022745180130004882],\n",
            "          'numpy_std': [0.0001974994978396864]},\n",
            " 12650000: {'list_mean_time': [3.8610745210647583],\n",
            "            'list_std': [0.35456079511090466],\n",
            "            'numpy_mean_time': [0.016565050601959227],\n",
            "            'numpy_std': [0.0020179276614726844]}}\n"
          ]
        }
      ]
    },
    {
      "cell_type": "markdown",
      "source": [
        "It can be seen from the output dictionary that for higher dimension matrices, numpy works faster than lists(as it takes lesser time), although, it might sometimes seem a bit slower for lower dimensions.\n",
        "\n",
        "This is because numpy combines c,cpp codes which have smaller execution time as compared to python. Also python list is a collection of different data types stored at non-contiguous memory locations. Numpy takes advantage of built-in processor intructions which make them faster linear algebraic computations. Numpy breaks down a problem into smaller parts and processes them parallely."
      ],
      "metadata": {
        "id": "2ndgZ9J8DXKK"
      }
    },
    {
      "cell_type": "code",
      "source": [],
      "metadata": {
        "id": "PMxm66y3DXqS"
      },
      "execution_count": null,
      "outputs": []
    },
    {
      "cell_type": "markdown",
      "source": [
        "**Answer 3:**"
      ],
      "metadata": {
        "id": "WiNXFbg-hL7Y"
      }
    },
    {
      "cell_type": "code",
      "source": [
        "import time\n",
        "import pandas as pd\n",
        "\n",
        "def multi_pass(p):\n",
        "  if (p.size%2 == 0):\n",
        "\n",
        "    length = p.size//2\n",
        "    max_vals = []\n",
        "    for i in range(length+1):\n",
        "      midx = np.argmax(p)\n",
        "      max_val = p[midx]\n",
        "      p = np.delete(p, midx)\n",
        "      max_vals.append(max_val)\n",
        "    \n",
        "    ind = len(max_vals)\n",
        "    med = (max_vals[ind-1]+max_vals[ind-2])/2\n",
        "\n",
        "  else:\n",
        "    length = (p.size//2)+1\n",
        "    for i in range(length):\n",
        "      max_val = max(p)\n",
        "      p = np.delete(p, np.where(p == max_val))\n",
        "    med = max_val\n",
        "  return med\n",
        "\n",
        "def func_sort(p):\n",
        "  np.sort(p)\n",
        "  l = p.size\n",
        "  if (p.size%2 == 0):\n",
        "    med = (p[l//2]+p[l//2-1])/2\n",
        "  else:\n",
        "    med = p[l//2]\n",
        "  return med\n",
        "\n",
        "def func_np(p):\n",
        "  return np.median(p)\n",
        "\n",
        "P = np.array([[1,2,3],[4,5,6]])\n",
        "d = {}\n",
        "for k, j in zip([4,50,100],[3,40,120]):\n",
        "  time_lst = []\n",
        "  time_srt =[]\n",
        "  time_np = []\n",
        "  P = np.random.randint(k, size=(k,j))\n",
        "  p = P.flatten()\n",
        "\n",
        "  for i in range(200):\n",
        "    st1 = time.time()\n",
        "    multi_pass(p)\n",
        "    end1 = time.time()\n",
        "    t = end1-st1\n",
        "    time_lst.append(t)\n",
        "\n",
        "    st2 = time.time()\n",
        "    func_sort(p)\n",
        "    end2 = time.time()\n",
        "    t = end2-st2\n",
        "    time_srt.append(t)\n",
        "\n",
        "    st3 = time.time()\n",
        "    func_np(p)\n",
        "    end3 = time.time()\n",
        "    t = end3-st3\n",
        "    time_np.append(t)\n",
        "\n",
        "    d[k*j] = {\n",
        "        'std_lst' : (pd.DataFrame(time_lst).std()).values.tolist(),\n",
        "        'mean_lst' : (pd.DataFrame(time_lst).mean()).values.tolist(),\n",
        "        'std_srt' : (pd.DataFrame(time_srt).std()).values.tolist(),\n",
        "        'mean_srt' : (pd.DataFrame(time_srt).mean()).values.tolist(),\n",
        "        'std_np' : (pd.DataFrame(time_np).std()).values.tolist(),\n",
        "        'mean_np' : (pd.DataFrame(time_np).mean()).values.tolist()\n",
        "    } \n",
        "\n",
        "\n"
      ],
      "metadata": {
        "id": "UjAl7kwThLjM"
      },
      "execution_count": null,
      "outputs": []
    },
    {
      "cell_type": "code",
      "source": [
        "import pprint\n",
        "pprint.pprint(d)"
      ],
      "metadata": {
        "colab": {
          "base_uri": "https://localhost:8080/"
        },
        "id": "t4jRIfBD9JRw",
        "outputId": "9677b87a-9671-4856-d5f4-c55354ced863"
      },
      "execution_count": null,
      "outputs": [
        {
          "output_type": "stream",
          "name": "stdout",
          "text": [
            "{12: {'mean_lst': [0.00012749075889587403],\n",
            "      'mean_np': [8.914709091186524e-05],\n",
            "      'mean_srt': [1.0592937469482422e-05],\n",
            "      'std_lst': [5.701739033033302e-05],\n",
            "      'std_np': [8.090883168903945e-05],\n",
            "      'std_srt': [3.620258274233336e-06]},\n",
            " 2000: {'mean_lst': [0.012454342842102051],\n",
            "        'mean_np': [0.0001807403564453125],\n",
            "        'mean_srt': [0.00010362982749938964],\n",
            "        'std_lst': [0.00188324718468125],\n",
            "        'std_np': [3.1864053876971805e-05],\n",
            "        'std_srt': [2.784517400300901e-05]},\n",
            " 12000: {'mean_lst': [0.1554647195339203],\n",
            "         'mean_np': [0.00029578328132629395],\n",
            "         'mean_srt': [0.0005493187904357911],\n",
            "         'std_lst': [0.029994230136128147],\n",
            "         'std_np': [4.2687074008652484e-05],\n",
            "         'std_srt': [4.439202867271016e-05]}}\n"
          ]
        }
      ]
    },
    {
      "cell_type": "markdown",
      "source": [
        "The time complexity of the suggested method is O(n^2) as it first finds the max element and deletes it and again finds the max element and deletes that and so on. This is repested until it finds the median element (n/2 th element in case of odd number of elements). this leads to a time complexity of O(n^2).\n",
        "\n",
        "The other efficient method would be to sort the elements and then directly find the n/2th element for odd number of elements and n/2th + (n+1/2)th element incase of even number of elements. This will take O(nlogn) time as the sort function takes O(nlogn) and retrieving the n/2th element will take O(1) time.\n",
        "\n",
        "**Analysis**: \n",
        "Here, std_lst and mean_lst represent standard deviation and mean of the time taken by the first method. std_srt and mean_srt represent standard deviation and mean of the time taken by the second method that uses sorting. std_np and mean_np represent standard deviation and mean of the time taken by the np.median method.\n",
        "\n",
        "It is observed that the first method's performance degrades with increase in dimensions of the array (as the array gets bigger). And sorting method performs better than the first method. Numpy.median too performs almost similar to sorting method, but slightly better than it."
      ],
      "metadata": {
        "id": "Snni337ZbJAz"
      }
    },
    {
      "cell_type": "code",
      "source": [],
      "metadata": {
        "id": "fH9d3S6XkZCw"
      },
      "execution_count": null,
      "outputs": []
    },
    {
      "cell_type": "markdown",
      "source": [
        "**Answer 4:** The gradient of the given function WRT x and y are as follows:\n",
        "\n",
        "$$\n",
        "  f(x) = {x^2}{y} + y^3sin(x)\n",
        "$$\n",
        "\n",
        "$$\\frac{\\partial f(x)}{\\partial x} = 2xy + y^3cos(x)$$\n",
        "\n",
        "$$\\frac{\\partial f(x)}{\\partial y} = x^2 + 3y^2sin(x)$$\n",
        "$$ \n",
        "  \\nabla f(x) = [\\frac{\\partial f(x)}{\\partial x} , \\frac{\\partial f(x)}{\\partial y}]\n",
        "$$\n",
        "\n"
      ],
      "metadata": {
        "id": "fVcOan1ib_Ma"
      }
    },
    {
      "cell_type": "code",
      "source": [],
      "metadata": {
        "id": "AAXwjLkykadw"
      },
      "execution_count": null,
      "outputs": []
    },
    {
      "cell_type": "markdown",
      "source": [
        "**Answer 5:**"
      ],
      "metadata": {
        "id": "Yu6b8jOeKP1_"
      }
    },
    {
      "cell_type": "markdown",
      "source": [
        "Here, it is verified by JAX using grad() that the calculated gradient is correct. \n",
        "\n",
        "For x = 2.0 and y = 3.0 and for x = 7.0 and y = 8.8, both the functions (our gradient and JAX gradient) produce the same values for gradient wrt x and y."
      ],
      "metadata": {
        "id": "hkPDAw0ikw2-"
      }
    },
    {
      "cell_type": "code",
      "source": [
        "import jax\n",
        "import jax.numpy as jnp\n",
        "from jax import grad\n",
        "\n",
        "def func(x,y):\n",
        "  return ((x**2)*y) + ((y**3)*jnp.sin(x))\n",
        "\n",
        "# Our method gradient function\n",
        "def func_grad(x,y):\n",
        "    return jnp.array([(2*x*y)+((y**3)*jnp.cos(x)) , ((x**2) + (3*y**2*jnp.sin(x)))])\n",
        "\n",
        "# JAX's grad operator\n",
        "grad_f = grad(func, [0,1])\n",
        "\n",
        "arr = jnp.array([[2.0, 3.0], [7.0, 8.8]])\n",
        "for i in arr:\n",
        "  print(\"our Gradient Function: \", func_grad(i[0],i[1]))\n",
        "  print(\"JAX Gradient Function: \", grad_f(i[0],i[1]))\n",
        "  print(\"\")"
      ],
      "metadata": {
        "id": "MPm6O6GcChtb",
        "colab": {
          "base_uri": "https://localhost:8080/"
        },
        "outputId": "7f7dbb61-bdd0-4c61-b746-37073371a011"
      },
      "execution_count": null,
      "outputs": [
        {
          "output_type": "stream",
          "name": "stderr",
          "text": [
            "WARNING:jax._src.lib.xla_bridge:No GPU/TPU found, falling back to CPU. (Set TF_CPP_MIN_LOG_LEVEL=0 and rerun for more info.)\n"
          ]
        },
        {
          "output_type": "stream",
          "name": "stdout",
          "text": [
            "our Gradient Function:  [ 0.7640352 28.55103  ]\n",
            "JAX Gradient Function:  (DeviceArray(0.7640352, dtype=float32), DeviceArray(28.55103, dtype=float32))\n",
            "\n",
            "our Gradient Function:  [636.9633  201.63113]\n",
            "JAX Gradient Function:  (DeviceArray(636.9633, dtype=float32), DeviceArray(201.63113, dtype=float32))\n",
            "\n"
          ]
        }
      ]
    },
    {
      "cell_type": "code",
      "source": [],
      "metadata": {
        "id": "V3H_-4f4f_38"
      },
      "execution_count": null,
      "outputs": []
    },
    {
      "cell_type": "markdown",
      "source": [
        "**Answer 6:**"
      ],
      "metadata": {
        "id": "QlZ-guFMffbs"
      }
    },
    {
      "cell_type": "markdown",
      "source": [
        "Sympy also produces the same gradient expression that we derived in question 4. Hence it is proved to be correct."
      ],
      "metadata": {
        "id": "IVkIWCdmlqTq"
      }
    },
    {
      "cell_type": "code",
      "source": [
        "import sympy as sp\n",
        "from sympy.vector import CoordSys3D, gradient\n",
        "x, y = sp.symbols('x y')\n",
        "\n",
        "s = x**2 * y + y**3 * sp.sin(x)\n",
        "\n",
        "grad = sp.Matrix([s]).jacobian([x, y])\n",
        "print(grad)\n"
      ],
      "metadata": {
        "colab": {
          "base_uri": "https://localhost:8080/"
        },
        "id": "1K7JedSSffAX",
        "outputId": "57810c2f-2051-461a-c03d-986735a78be6"
      },
      "execution_count": null,
      "outputs": [
        {
          "output_type": "stream",
          "name": "stdout",
          "text": [
            "Matrix([[2*x*y + y**3*cos(x), x**2 + 3*y**2*sin(x)]])\n"
          ]
        }
      ]
    },
    {
      "cell_type": "code",
      "source": [],
      "metadata": {
        "id": "9E7OswOugBpC"
      },
      "execution_count": null,
      "outputs": []
    },
    {
      "cell_type": "markdown",
      "source": [
        "**answer 7:**"
      ],
      "metadata": {
        "id": "nHAbMY0OlMlb"
      }
    },
    {
      "cell_type": "code",
      "source": [
        "#dictionary implementation:\n",
        "\n",
        "year = {\n",
        "    '2022' : {\n",
        "        'batch1' : {\n",
        "            'name' : 'XYZ',\n",
        "            'roll-no' : '1',\n",
        "            'marks' : {\n",
        "                'maths' : 10,\n",
        "                'english' : 10\n",
        "            }\n",
        "        }\n",
        "    },\n",
        "    '2023' : {\n",
        "        'batch1' : {},\n",
        "        'batch2': {}\n",
        "    },\n",
        "    '2024' : {\n",
        "        'batch1' : {},\n",
        "        'batch2': {}\n",
        "    },\n",
        "    '2025' : {\n",
        "        'batch1' : {},\n",
        "        'batch2': {}\n",
        "    }\n",
        "\n",
        "}\n",
        "\n",
        "pprint.pprint(year)"
      ],
      "metadata": {
        "colab": {
          "base_uri": "https://localhost:8080/"
        },
        "id": "_NkAYfHDlHrv",
        "outputId": "9210a779-ae6a-46af-9b54-8dc7e8f78566"
      },
      "execution_count": null,
      "outputs": [
        {
          "output_type": "stream",
          "name": "stdout",
          "text": [
            "{'2022': {'batch1': {'marks': {'english': 10, 'maths': 10},\n",
            "                     'name': 'XYZ',\n",
            "                     'roll-no': '1'}},\n",
            " '2023': {'batch1': {}, 'batch2': {}},\n",
            " '2024': {'batch1': {}, 'batch2': {}},\n",
            " '2025': {'batch1': {}, 'batch2': {}}}\n"
          ]
        }
      ]
    },
    {
      "cell_type": "code",
      "source": [],
      "metadata": {
        "id": "U5dHwjHxmP9L"
      },
      "execution_count": null,
      "outputs": []
    },
    {
      "cell_type": "markdown",
      "source": [
        "**Answer 8:**"
      ],
      "metadata": {
        "id": "zL4mbjx7mPdG"
      }
    },
    {
      "cell_type": "code",
      "source": [
        "#class implementation:\n",
        "\n",
        "class student:\n",
        "  def __init__(self, roll_number, name, marks):\n",
        "    self.roll_number = roll_number\n",
        "    self.name = name\n",
        "    self.marks = marks\n",
        "\n",
        "class branch:\n",
        "  def __init__(self, name, students):\n",
        "    self.name = name\n",
        "    self.students = students\n",
        "\n",
        "class Year:\n",
        "  def __init__(self, name, branches):\n",
        "    self.name = name\n",
        "    self.branches = branches\n",
        "\n",
        "\n",
        "students1 = [student('1','N',{'maths':40, 'english':50}), student('2','M',{'maths':0, 'english':0})]\n",
        "students2 = [student('3','o',{'maths':40, 'english':5}), student('4','p',{'maths':80, 'english':0})]\n",
        "\n",
        "branches1 = [branch('branch1',students1), branch('branch2',students2)]\n",
        "branches2 = [branch('branch1',students1), branch('branch2',students2)]\n",
        "\n",
        "database = [Year(2022,branches1), Year(2023, branches2)]\n"
      ],
      "metadata": {
        "id": "C5Lqc9YCJL_i"
      },
      "execution_count": null,
      "outputs": []
    },
    {
      "cell_type": "code",
      "source": [],
      "metadata": {
        "id": "XiI29AV1mcV7"
      },
      "execution_count": null,
      "outputs": []
    },
    {
      "cell_type": "markdown",
      "source": [
        "**Answer9:**\n",
        "If we need to show each point on the x-axis (by 0.5 increments), then f.set_figwidth and xticks can be used (these are commented in the following code)"
      ],
      "metadata": {
        "id": "waBW10reE_ss"
      }
    },
    {
      "cell_type": "code",
      "source": [
        "import matplotlib.pyplot as plt\n",
        "\n",
        "x = [i * 0.5 for i in range(1, 201)]  \n",
        "y = [i for i in x]  \n",
        "\n",
        "f = plt.figure()\n",
        "#f.set_figwidth(80)\n",
        "\n",
        "plt.plot(x, y)  \n",
        "\n",
        "#plt.xticks(x)\n",
        "plt.title('y = x')  \n",
        "plt.xlabel('x')  \n",
        "plt.ylabel('y')\n",
        "plt.grid(True)\n",
        "plt.show()  \n"
      ],
      "metadata": {
        "colab": {
          "base_uri": "https://localhost:8080/",
          "height": 295
        },
        "id": "AynI54UHWlG2",
        "outputId": "55fffa29-9c67-450b-e49e-739fdcc27884"
      },
      "execution_count": 3,
      "outputs": [
        {
          "output_type": "display_data",
          "data": {
            "text/plain": [
              "<Figure size 432x288 with 1 Axes>"
            ],
            "image/png": "[encoded data removed]"
          },
          "metadata": {
            "needs_background": "light"
          }
        }
      ]
    },
    {
      "cell_type": "code",
      "source": [
        "# plotting y = x^2\n",
        "\n",
        "x = [i * 0.5 for i in range(1, 201)]  \n",
        "y = [i**2 for i in x]  \n",
        "\n",
        "f = plt.figure()\n",
        "#f.set_figwidth(80)\n",
        "\n",
        "plt.plot(x, y)  \n",
        "\n",
        "#plt.xticks(x)\n",
        "plt.title('y = x^2')  \n",
        "plt.xlabel('x')  \n",
        "plt.ylabel('y')\n",
        "plt.grid(True)\n",
        "plt.show()  \n"
      ],
      "metadata": {
        "id": "3b8hhzsCMHhs",
        "colab": {
          "base_uri": "https://localhost:8080/",
          "height": 295
        },
        "outputId": "7b503878-cc03-4bcb-f577-f4c7a8f3885c"
      },
      "execution_count": 4,
      "outputs": [
        {
          "output_type": "display_data",
          "data": {
            "text/plain": [
              "<Figure size 432x288 with 1 Axes>"
            ],
            "image/png": "[encoded data removed]"
          },
          "metadata": {
            "needs_background": "light"
          }
        }
      ]
    },
    {
      "cell_type": "code",
      "source": [
        "#plotting y = x^3/100\n",
        "\n",
        "x = [i * 0.5 for i in range(1, 201)]  \n",
        "y = [(i**3)/100 for i in x]  \n",
        "\n",
        "f = plt.figure()\n",
        "#f.set_figwidth(80)\n",
        "\n",
        "plt.plot(x, y)  \n",
        "\n",
        "#plt.xticks(x)\n",
        "plt.title('y = x^3/100')  \n",
        "plt.xlabel('x')  \n",
        "plt.ylabel('y')\n",
        "plt.grid(True)\n",
        "plt.show()  \n",
        "\n"
      ],
      "metadata": {
        "colab": {
          "base_uri": "https://localhost:8080/",
          "height": 295
        },
        "id": "4UXWmau8KRkW",
        "outputId": "8ee38d5f-ff50-4013-a913-058e3c537d7e"
      },
      "execution_count": 5,
      "outputs": [
        {
          "output_type": "display_data",
          "data": {
            "text/plain": [
              "<Figure size 432x288 with 1 Axes>"
            ],
            "image/png": "[encoded data removed]"
          },
          "metadata": {
            "needs_background": "light"
          }
        }
      ]
    },
    {
      "cell_type": "code",
      "source": [
        "#plotting y = sin(x)\n",
        "\n",
        "import math\n",
        "\n",
        "x = [i * 0.5 for i in range(1, 201)]  \n",
        "y = [math.sin(i) for i in x]  \n",
        "\n",
        "f = plt.figure()\n",
        "#f.set_figwidth(80)\n",
        "\n",
        "plt.plot(x, y)  \n",
        "\n",
        "#plt.xticks(x)\n",
        "plt.title('y = sin(x)')  \n",
        "plt.xlabel('x')  \n",
        "plt.ylabel('y')\n",
        "plt.grid(True)\n",
        "plt.show()  \n",
        "\n"
      ],
      "metadata": {
        "colab": {
          "base_uri": "https://localhost:8080/",
          "height": 295
        },
        "id": "-fsxMBPTLVuq",
        "outputId": "0ce7f0a3-2f07-4f56-ff74-3784a94abd08"
      },
      "execution_count": 6,
      "outputs": [
        {
          "output_type": "display_data",
          "data": {
            "text/plain": [
              "<Figure size 432x288 with 1 Axes>"
            ],
            "image/png": "[encoded data removed]"
          },
          "metadata": {
            "needs_background": "light"
          }
        }
      ]
    },
    {
      "cell_type": "code",
      "source": [
        "#plotting y = sin(x)\n",
        "import math\n",
        "\n",
        "x = [i * 0.5 for i in range(1, 201)]  \n",
        "y = [(math.sin(i))/i for i in x]  \n",
        "\n",
        "f = plt.figure()\n",
        "#f.set_figwidth(80)\n",
        "\n",
        "plt.plot(x, y)  \n",
        "\n",
        "#plt.xticks(x)\n",
        "plt.title('y = sin(x)/x')  \n",
        "plt.xlabel('x')  \n",
        "plt.ylabel('y')\n",
        "plt.grid(True)\n",
        "plt.show()  \n",
        "\n"
      ],
      "metadata": {
        "colab": {
          "base_uri": "https://localhost:8080/",
          "height": 295
        },
        "id": "YNrhzsr9dD5w",
        "outputId": "fee3255d-48af-4d39-f6c6-8f8e26181896"
      },
      "execution_count": null,
      "outputs": [
        {
          "output_type": "display_data",
          "data": {
            "text/plain": [
              "<Figure size 432x288 with 1 Axes>"
            ],
            "image/png": "[encoded data removed]"
          },
          "metadata": {
            "needs_background": "light"
          }
        }
      ]
    },
    {
      "cell_type": "code",
      "source": [
        "#plotting y = sin(x)\n",
        "import math\n",
        "\n",
        "x = [i * 0.5 for i in range(1, 201)]  \n",
        "y = [math.log(i) for i in x]  \n",
        "\n",
        "f = plt.figure()\n",
        "#f.set_figwidth(80)\n",
        "\n",
        "plt.plot(x, y)  \n",
        "\n",
        "#plt.xticks(x)\n",
        "plt.title('y = log(x)')  \n",
        "plt.xlabel('x')  \n",
        "plt.ylabel('y')\n",
        "plt.grid(True)\n",
        "plt.show()  \n",
        "\n"
      ],
      "metadata": {
        "id": "LjLQ2GjDLnXO",
        "colab": {
          "base_uri": "https://localhost:8080/",
          "height": 295
        },
        "outputId": "12f45cda-6854-4101-ff07-1e4a443c01cf"
      },
      "execution_count": null,
      "outputs": [
        {
          "output_type": "display_data",
          "data": {
            "text/plain": [
              "<Figure size 432x288 with 1 Axes>"
            ],
            "image/png": "[encoded data removed]"
          },
          "metadata": {
            "needs_background": "light"
          }
        }
      ]
    },
    {
      "cell_type": "code",
      "source": [
        "#plotting y = e^(x)\n",
        "import math\n",
        "import numpy as np\n",
        "\n",
        "x = [i * 0.5 for i in range(1, 201)] \n",
        "y = np.exp(x)  \n",
        "\n",
        "f = plt.figure()\n",
        "#f.set_figwidth(80)\n",
        "\n",
        "plt.plot(x, y)  \n",
        "\n",
        "# plt.xlim([0.5, 3])\n",
        "# plt.ylim([0, 7])\n",
        "#plt.xticks(x)\n",
        "plt.title('y = e^(x)')  \n",
        "plt.xlabel('x')  \n",
        "plt.ylabel('y')\n",
        "plt.grid(True)\n",
        "plt.show()  \n",
        "\n"
      ],
      "metadata": {
        "colab": {
          "base_uri": "https://localhost:8080/",
          "height": 295
        },
        "id": "fO2RJLWBX6GT",
        "outputId": "269a725e-a7c1-40e6-d8ce-bf2e8b73bf29"
      },
      "execution_count": null,
      "outputs": [
        {
          "output_type": "display_data",
          "data": {
            "text/plain": [
              "<Figure size 432x288 with 1 Axes>"
            ],
            "image/png": "[encoded data removed]"
          },
          "metadata": {
            "needs_background": "light"
          }
        }
      ]
    },
    {
      "cell_type": "code",
      "source": [],
      "metadata": {
        "id": "0FFHHJDuI4bA"
      },
      "execution_count": null,
      "outputs": []
    },
    {
      "cell_type": "markdown",
      "source": [
        "**Answer 10 :**\n"
      ],
      "metadata": {
        "id": "k9qmUxtlI5QD"
      }
    },
    {
      "cell_type": "code",
      "source": [
        "import numpy as np\n",
        "s = np.random.uniform(1,2,(20,5))\n",
        "print(s)"
      ],
      "metadata": {
        "colab": {
          "base_uri": "https://localhost:8080/"
        },
        "id": "50opG-KAYfwZ",
        "outputId": "dcd6b12c-2188-4ac3-9f53-641114b6293a"
      },
      "execution_count": 7,
      "outputs": [
        {
          "output_type": "stream",
          "name": "stdout",
          "text": [
            "[[1.46763199 1.56037668 1.67501159 1.5368019  1.98195835]\n",
            " [1.02593897 1.1093577  1.67458524 1.39642766 1.39065487]\n",
            " [1.31605635 1.23884098 1.39410585 1.04728268 1.38622713]\n",
            " [1.2203078  1.17645278 1.82249009 1.84527971 1.28040014]\n",
            " [1.79181176 1.42151092 1.65960607 1.44131224 1.38846705]\n",
            " [1.29592641 1.27100438 1.06309138 1.16353454 1.64146239]\n",
            " [1.46297363 1.88050926 1.22522687 1.95162523 1.07173697]\n",
            " [1.97717348 1.38449359 1.09020692 1.08589715 1.27570097]\n",
            " [1.62762576 1.6317134  1.56340282 1.28312315 1.6035299 ]\n",
            " [1.54217599 1.91523573 1.6016998  1.02513622 1.41196372]\n",
            " [1.0954012  1.81909239 1.33467347 1.35787489 1.48555484]\n",
            " [1.23057799 1.02858176 1.07857105 1.9007712  1.02135928]\n",
            " [1.9868059  1.58671581 1.01446861 1.44160448 1.41229838]\n",
            " [1.88324733 1.15459723 1.18403366 1.13682191 1.54156461]\n",
            " [1.82003524 1.40847799 1.55412776 1.26366692 1.91881502]\n",
            " [1.72417706 1.99491109 1.4330822  1.01915684 1.86259405]\n",
            " [1.04994955 1.82374744 1.75865802 1.74661172 1.09688655]\n",
            " [1.30179611 1.70056021 1.62077849 1.62869564 1.42727434]\n",
            " [1.36989037 1.62379654 1.44070339 1.76032427 1.11329512]\n",
            " [1.67515033 1.43597211 1.35802625 1.9641707  1.62467213]]\n"
          ]
        }
      ]
    },
    {
      "cell_type": "code",
      "source": [
        "import pandas as pd\n",
        "\n",
        "s_pd = pd.DataFrame(s)\n",
        "s_pd.columns =['a', 'b', 'c', 'd', 'e']\n",
        "print(s_pd)"
      ],
      "metadata": {
        "colab": {
          "base_uri": "https://localhost:8080/"
        },
        "id": "cjZO8WAuZ2KG",
        "outputId": "389df7c1-494b-4331-8e51-05a05a40da7d"
      },
      "execution_count": 8,
      "outputs": [
        {
          "output_type": "stream",
          "name": "stdout",
          "text": [
            "           a         b         c         d         e\n",
            "0   1.467632  1.560377  1.675012  1.536802  1.981958\n",
            "1   1.025939  1.109358  1.674585  1.396428  1.390655\n",
            "2   1.316056  1.238841  1.394106  1.047283  1.386227\n",
            "3   1.220308  1.176453  1.822490  1.845280  1.280400\n",
            "4   1.791812  1.421511  1.659606  1.441312  1.388467\n",
            "5   1.295926  1.271004  1.063091  1.163535  1.641462\n",
            "6   1.462974  1.880509  1.225227  1.951625  1.071737\n",
            "7   1.977173  1.384494  1.090207  1.085897  1.275701\n",
            "8   1.627626  1.631713  1.563403  1.283123  1.603530\n",
            "9   1.542176  1.915236  1.601700  1.025136  1.411964\n",
            "10  1.095401  1.819092  1.334673  1.357875  1.485555\n",
            "11  1.230578  1.028582  1.078571  1.900771  1.021359\n",
            "12  1.986806  1.586716  1.014469  1.441604  1.412298\n",
            "13  1.883247  1.154597  1.184034  1.136822  1.541565\n",
            "14  1.820035  1.408478  1.554128  1.263667  1.918815\n",
            "15  1.724177  1.994911  1.433082  1.019157  1.862594\n",
            "16  1.049950  1.823747  1.758658  1.746612  1.096887\n",
            "17  1.301796  1.700560  1.620778  1.628696  1.427274\n",
            "18  1.369890  1.623797  1.440703  1.760324  1.113295\n",
            "19  1.675150  1.435972  1.358026  1.964171  1.624672\n"
          ]
        }
      ]
    },
    {
      "cell_type": "code",
      "source": [
        "print(s_pd.std(), s_pd.mean(axis=1))"
      ],
      "metadata": {
        "colab": {
          "base_uri": "https://localhost:8080/"
        },
        "id": "JnduJriohx-l",
        "outputId": "e6aa489c-945e-435f-9c27-d13daff2dce0"
      },
      "execution_count": 15,
      "outputs": [
        {
          "output_type": "stream",
          "name": "stdout",
          "text": [
            "a    0.305487\n",
            "b    0.290454\n",
            "c    0.251096\n",
            "d    0.325600\n",
            "e    0.272606\n",
            "dtype: float64 0     1.644356\n",
            "1     1.319393\n",
            "2     1.276503\n",
            "3     1.468986\n",
            "4     1.540542\n",
            "5     1.287004\n",
            "6     1.518414\n",
            "7     1.362694\n",
            "8     1.541879\n",
            "9     1.499242\n",
            "10    1.418519\n",
            "11    1.251972\n",
            "12    1.488379\n",
            "13    1.380053\n",
            "14    1.593025\n",
            "15    1.606784\n",
            "16    1.495171\n",
            "17    1.535821\n",
            "18    1.461602\n",
            "19    1.611598\n",
            "dtype: float64\n"
          ]
        }
      ]
    },
    {
      "cell_type": "code",
      "source": [
        "print(\"column with highest standard deviation: \",s_pd.std().idxmax())"
      ],
      "metadata": {
        "colab": {
          "base_uri": "https://localhost:8080/"
        },
        "id": "ACB0xOXfjf9C",
        "outputId": "9b5b1510-abe0-4bf2-97af-11d8d08107ec"
      },
      "execution_count": 11,
      "outputs": [
        {
          "output_type": "stream",
          "name": "stdout",
          "text": [
            "column with highest standard deviation:  d\n"
          ]
        }
      ]
    },
    {
      "cell_type": "code",
      "source": [
        "print(\"column with lowest mean: \", s_pd.mean(axis =1).idxmin())"
      ],
      "metadata": {
        "colab": {
          "base_uri": "https://localhost:8080/"
        },
        "id": "py3VOks2jt2N",
        "outputId": "3b73c42d-7659-4152-c429-959def0d7411"
      },
      "execution_count": 12,
      "outputs": [
        {
          "output_type": "stream",
          "name": "stdout",
          "text": [
            "column with lowest mean:  11\n"
          ]
        }
      ]
    },
    {
      "cell_type": "code",
      "source": [],
      "metadata": {
        "id": "GB-RDtg-nBjw"
      },
      "execution_count": null,
      "outputs": []
    },
    {
      "cell_type": "markdown",
      "source": [
        "**Answer 11**"
      ],
      "metadata": {
        "id": "vBQ0GTO4nB9M"
      }
    },
    {
      "cell_type": "code",
      "source": [],
      "metadata": {
        "id": "9IJq9NxHnBc4"
      },
      "execution_count": null,
      "outputs": []
    },
    {
      "cell_type": "code",
      "source": [
        "s_pd['f'] = s_pd['a']+s_pd['b']+s_pd['c']+s_pd['d']+s_pd['e']\n",
        "s_pd"
      ],
      "metadata": {
        "colab": {
          "base_uri": "https://localhost:8080/",
          "height": 676
        },
        "id": "uA4Iau59j4NK",
        "outputId": "8d8049c9-da63-4daf-bcd5-478ff03a5f53"
      },
      "execution_count": 16,
      "outputs": [
        {
          "output_type": "execute_result",
          "data": {
            "text/plain": [
              "           a         b         c         d         e         f\n",
              "0   1.467632  1.560377  1.675012  1.536802  1.981958  8.221781\n",
              "1   1.025939  1.109358  1.674585  1.396428  1.390655  6.596964\n",
              "2   1.316056  1.238841  1.394106  1.047283  1.386227  6.382513\n",
              "3   1.220308  1.176453  1.822490  1.845280  1.280400  7.344931\n",
              "4   1.791812  1.421511  1.659606  1.441312  1.388467  7.702708\n",
              "5   1.295926  1.271004  1.063091  1.163535  1.641462  6.435019\n",
              "6   1.462974  1.880509  1.225227  1.951625  1.071737  7.592072\n",
              "7   1.977173  1.384494  1.090207  1.085897  1.275701  6.813472\n",
              "8   1.627626  1.631713  1.563403  1.283123  1.603530  7.709395\n",
              "9   1.542176  1.915236  1.601700  1.025136  1.411964  7.496211\n",
              "10  1.095401  1.819092  1.334673  1.357875  1.485555  7.092597\n",
              "11  1.230578  1.028582  1.078571  1.900771  1.021359  6.259861\n",
              "12  1.986806  1.586716  1.014469  1.441604  1.412298  7.441893\n",
              "13  1.883247  1.154597  1.184034  1.136822  1.541565  6.900265\n",
              "14  1.820035  1.408478  1.554128  1.263667  1.918815  7.965123\n",
              "15  1.724177  1.994911  1.433082  1.019157  1.862594  8.033921\n",
              "16  1.049950  1.823747  1.758658  1.746612  1.096887  7.475853\n",
              "17  1.301796  1.700560  1.620778  1.628696  1.427274  7.679105\n",
              "18  1.369890  1.623797  1.440703  1.760324  1.113295  7.308010\n",
              "19  1.675150  1.435972  1.358026  1.964171  1.624672  8.057992"
            ],
            "text/html": [
              "\n",
              "  <div id=\"df-ff0c3005-62b7-4d52-a190-ae5e1cdb293d\">\n",
              "    <div class=\"colab-df-container\">\n",
              "      <div>\n",
              "<style scoped>\n",
              "    .dataframe tbody tr th:only-of-type {\n",
              "        vertical-align: middle;\n",
              "    }\n",
              "\n",
              "    .dataframe tbody tr th {\n",
              "        vertical-align: top;\n",
              "    }\n",
              "\n",
              "    .dataframe thead th {\n",
              "        text-align: right;\n",
              "    }\n",
              "</style>\n",
              "<table border=\"1\" class=\"dataframe\">\n",
              "  <thead>\n",
              "    <tr style=\"text-align: right;\">\n",
              "      <th></th>\n",
              "      <th>a</th>\n",
              "      <th>b</th>\n",
              "      <th>c</th>\n",
              "      <th>d</th>\n",
              "      <th>e</th>\n",
              "      <th>f</th>\n",
              "    </tr>\n",
              "  </thead>\n",
              "  <tbody>\n",
              "    <tr>\n",
              "      <th>0</th>\n",
              "      <td>1.467632</td>\n",
              "      <td>1.560377</td>\n",
              "      <td>1.675012</td>\n",
              "      <td>1.536802</td>\n",
              "      <td>1.981958</td>\n",
              "      <td>8.221781</td>\n",
              "    </tr>\n",
              "    <tr>\n",
              "      <th>1</th>\n",
              "      <td>1.025939</td>\n",
              "      <td>1.109358</td>\n",
              "      <td>1.674585</td>\n",
              "      <td>1.396428</td>\n",
              "      <td>1.390655</td>\n",
              "      <td>6.596964</td>\n",
              "    </tr>\n",
              "    <tr>\n",
              "      <th>2</th>\n",
              "      <td>1.316056</td>\n",
              "      <td>1.238841</td>\n",
              "      <td>1.394106</td>\n",
              "      <td>1.047283</td>\n",
              "      <td>1.386227</td>\n",
              "      <td>6.382513</td>\n",
              "    </tr>\n",
              "    <tr>\n",
              "      <th>3</th>\n",
              "      <td>1.220308</td>\n",
              "      <td>1.176453</td>\n",
              "      <td>1.822490</td>\n",
              "      <td>1.845280</td>\n",
              "      <td>1.280400</td>\n",
              "      <td>7.344931</td>\n",
              "    </tr>\n",
              "    <tr>\n",
              "      <th>4</th>\n",
              "      <td>1.791812</td>\n",
              "      <td>1.421511</td>\n",
              "      <td>1.659606</td>\n",
              "      <td>1.441312</td>\n",
              "      <td>1.388467</td>\n",
              "      <td>7.702708</td>\n",
              "    </tr>\n",
              "    <tr>\n",
              "      <th>5</th>\n",
              "      <td>1.295926</td>\n",
              "      <td>1.271004</td>\n",
              "      <td>1.063091</td>\n",
              "      <td>1.163535</td>\n",
              "      <td>1.641462</td>\n",
              "      <td>6.435019</td>\n",
              "    </tr>\n",
              "    <tr>\n",
              "      <th>6</th>\n",
              "      <td>1.462974</td>\n",
              "      <td>1.880509</td>\n",
              "      <td>1.225227</td>\n",
              "      <td>1.951625</td>\n",
              "      <td>1.071737</td>\n",
              "      <td>7.592072</td>\n",
              "    </tr>\n",
              "    <tr>\n",
              "      <th>7</th>\n",
              "      <td>1.977173</td>\n",
              "      <td>1.384494</td>\n",
              "      <td>1.090207</td>\n",
              "      <td>1.085897</td>\n",
              "      <td>1.275701</td>\n",
              "      <td>6.813472</td>\n",
              "    </tr>\n",
              "    <tr>\n",
              "      <th>8</th>\n",
              "      <td>1.627626</td>\n",
              "      <td>1.631713</td>\n",
              "      <td>1.563403</td>\n",
              "      <td>1.283123</td>\n",
              "      <td>1.603530</td>\n",
              "      <td>7.709395</td>\n",
              "    </tr>\n",
              "    <tr>\n",
              "      <th>9</th>\n",
              "      <td>1.542176</td>\n",
              "      <td>1.915236</td>\n",
              "      <td>1.601700</td>\n",
              "      <td>1.025136</td>\n",
              "      <td>1.411964</td>\n",
              "      <td>7.496211</td>\n",
              "    </tr>\n",
              "    <tr>\n",
              "      <th>10</th>\n",
              "      <td>1.095401</td>\n",
              "      <td>1.819092</td>\n",
              "      <td>1.334673</td>\n",
              "      <td>1.357875</td>\n",
              "      <td>1.485555</td>\n",
              "      <td>7.092597</td>\n",
              "    </tr>\n",
              "    <tr>\n",
              "      <th>11</th>\n",
              "      <td>1.230578</td>\n",
              "      <td>1.028582</td>\n",
              "      <td>1.078571</td>\n",
              "      <td>1.900771</td>\n",
              "      <td>1.021359</td>\n",
              "      <td>6.259861</td>\n",
              "    </tr>\n",
              "    <tr>\n",
              "      <th>12</th>\n",
              "      <td>1.986806</td>\n",
              "      <td>1.586716</td>\n",
              "      <td>1.014469</td>\n",
              "      <td>1.441604</td>\n",
              "      <td>1.412298</td>\n",
              "      <td>7.441893</td>\n",
              "    </tr>\n",
              "    <tr>\n",
              "      <th>13</th>\n",
              "      <td>1.883247</td>\n",
              "      <td>1.154597</td>\n",
              "      <td>1.184034</td>\n",
              "      <td>1.136822</td>\n",
              "      <td>1.541565</td>\n",
              "      <td>6.900265</td>\n",
              "    </tr>\n",
              "    <tr>\n",
              "      <th>14</th>\n",
              "      <td>1.820035</td>\n",
              "      <td>1.408478</td>\n",
              "      <td>1.554128</td>\n",
              "      <td>1.263667</td>\n",
              "      <td>1.918815</td>\n",
              "      <td>7.965123</td>\n",
              "    </tr>\n",
              "    <tr>\n",
              "      <th>15</th>\n",
              "      <td>1.724177</td>\n",
              "      <td>1.994911</td>\n",
              "      <td>1.433082</td>\n",
              "      <td>1.019157</td>\n",
              "      <td>1.862594</td>\n",
              "      <td>8.033921</td>\n",
              "    </tr>\n",
              "    <tr>\n",
              "      <th>16</th>\n",
              "      <td>1.049950</td>\n",
              "      <td>1.823747</td>\n",
              "      <td>1.758658</td>\n",
              "      <td>1.746612</td>\n",
              "      <td>1.096887</td>\n",
              "      <td>7.475853</td>\n",
              "    </tr>\n",
              "    <tr>\n",
              "      <th>17</th>\n",
              "      <td>1.301796</td>\n",
              "      <td>1.700560</td>\n",
              "      <td>1.620778</td>\n",
              "      <td>1.628696</td>\n",
              "      <td>1.427274</td>\n",
              "      <td>7.679105</td>\n",
              "    </tr>\n",
              "    <tr>\n",
              "      <th>18</th>\n",
              "      <td>1.369890</td>\n",
              "      <td>1.623797</td>\n",
              "      <td>1.440703</td>\n",
              "      <td>1.760324</td>\n",
              "      <td>1.113295</td>\n",
              "      <td>7.308010</td>\n",
              "    </tr>\n",
              "    <tr>\n",
              "      <th>19</th>\n",
              "      <td>1.675150</td>\n",
              "      <td>1.435972</td>\n",
              "      <td>1.358026</td>\n",
              "      <td>1.964171</td>\n",
              "      <td>1.624672</td>\n",
              "      <td>8.057992</td>\n",
              "    </tr>\n",
              "  </tbody>\n",
              "</table>\n",
              "</div>\n",
              "      <button class=\"colab-df-convert\" onclick=\"convertToInteractive('df-ff0c3005-62b7-4d52-a190-ae5e1cdb293d')\"\n",
              "              title=\"Convert this dataframe to an interactive table.\"\n",
              "              style=\"display:none;\">\n",
              "        \n",
              "  <svg xmlns=\"http://www.w3.org/2000/svg\" height=\"24px\"viewBox=\"0 0 24 24\"\n",
              "       width=\"24px\">\n",
              "    <path d=\"M0 0h24v24H0V0z\" fill=\"none\"/>\n",
              "    <path d=\"M18.56 5.44l.94 2.06.94-2.06 2.06-.94-2.06-.94-.94-2.06-.94 2.06-2.06.94zm-11 1L8.5 8.5l.94-2.06 2.06-.94-2.06-.94L8.5 2.5l-.94 2.06-2.06.94zm10 10l.94 2.06.94-2.06 2.06-.94-2.06-.94-.94-2.06-.94 2.06-2.06.94z\"/><path d=\"M17.41 7.96l-1.37-1.37c-.4-.4-.92-.59-1.43-.59-.52 0-1.04.2-1.43.59L10.3 9.45l-7.72 7.72c-.78.78-.78 2.05 0 2.83L4 21.41c.39.39.9.59 1.41.59.51 0 1.02-.2 1.41-.59l7.78-7.78 2.81-2.81c.8-.78.8-2.07 0-2.86zM5.41 20L4 18.59l7.72-7.72 1.47 1.35L5.41 20z\"/>\n",
              "  </svg>\n",
              "      </button>\n",
              "      \n",
              "  <style>\n",
              "    .colab-df-container {\n",
              "      display:flex;\n",
              "      flex-wrap:wrap;\n",
              "      gap: 12px;\n",
              "    }\n",
              "\n",
              "    .colab-df-convert {\n",
              "      background-color: #E8F0FE;\n",
              "      border: none;\n",
              "      border-radius: 50%;\n",
              "      cursor: pointer;\n",
              "      display: none;\n",
              "      fill: #1967D2;\n",
              "      height: 32px;\n",
              "      padding: 0 0 0 0;\n",
              "      width: 32px;\n",
              "    }\n",
              "\n",
              "    .colab-df-convert:hover {\n",
              "      background-color: #E2EBFA;\n",
              "      box-shadow: 0px 1px 2px rgba(60, 64, 67, 0.3), 0px 1px 3px 1px rgba(60, 64, 67, 0.15);\n",
              "      fill: #174EA6;\n",
              "    }\n",
              "\n",
              "    [theme=dark] .colab-df-convert {\n",
              "      background-color: #3B4455;\n",
              "      fill: #D2E3FC;\n",
              "    }\n",
              "\n",
              "    [theme=dark] .colab-df-convert:hover {\n",
              "      background-color: #434B5C;\n",
              "      box-shadow: 0px 1px 3px 1px rgba(0, 0, 0, 0.15);\n",
              "      filter: drop-shadow(0px 1px 2px rgba(0, 0, 0, 0.3));\n",
              "      fill: #FFFFFF;\n",
              "    }\n",
              "  </style>\n",
              "\n",
              "      <script>\n",
              "        const buttonEl =\n",
              "          document.querySelector('#df-ff0c3005-62b7-4d52-a190-ae5e1cdb293d button.colab-df-convert');\n",
              "        buttonEl.style.display =\n",
              "          google.colab.kernel.accessAllowed ? 'block' : 'none';\n",
              "\n",
              "        async function convertToInteractive(key) {\n",
              "          const element = document.querySelector('#df-ff0c3005-62b7-4d52-a190-ae5e1cdb293d');\n",
              "          const dataTable =\n",
              "            await google.colab.kernel.invokeFunction('convertToInteractive',\n",
              "                                                     [key], {});\n",
              "          if (!dataTable) return;\n",
              "\n",
              "          const docLinkHtml = 'Like what you see? Visit the ' +\n",
              "            '<a target=\"_blank\" href=https://colab.research.google.com/notebooks/data_table.ipynb>data table notebook</a>'\n",
              "            + ' to learn more about interactive tables.';\n",
              "          element.innerHTML = '';\n",
              "          dataTable['output_type'] = 'display_data';\n",
              "          await google.colab.output.renderOutput(dataTable, element);\n",
              "          const docLink = document.createElement('div');\n",
              "          docLink.innerHTML = docLinkHtml;\n",
              "          element.appendChild(docLink);\n",
              "        }\n",
              "      </script>\n",
              "    </div>\n",
              "  </div>\n",
              "  "
            ]
          },
          "metadata": {},
          "execution_count": 16
        }
      ]
    },
    {
      "cell_type": "code",
      "source": [
        "s_pd['g'] = s_pd['f'].apply(lambda x:'LT8' if (x<8) else 'GT8') "
      ],
      "metadata": {
        "id": "JrNX4TL2xqTb"
      },
      "execution_count": 17,
      "outputs": []
    },
    {
      "cell_type": "code",
      "source": [
        "s_pd"
      ],
      "metadata": {
        "colab": {
          "base_uri": "https://localhost:8080/",
          "height": 676
        },
        "id": "2Jcxmxl11Ajq",
        "outputId": "2b3a5924-c6f4-472b-cc01-30fb4b844b20"
      },
      "execution_count": 18,
      "outputs": [
        {
          "output_type": "execute_result",
          "data": {
            "text/plain": [
              "           a         b         c         d         e         f    g\n",
              "0   1.467632  1.560377  1.675012  1.536802  1.981958  8.221781  GT8\n",
              "1   1.025939  1.109358  1.674585  1.396428  1.390655  6.596964  LT8\n",
              "2   1.316056  1.238841  1.394106  1.047283  1.386227  6.382513  LT8\n",
              "3   1.220308  1.176453  1.822490  1.845280  1.280400  7.344931  LT8\n",
              "4   1.791812  1.421511  1.659606  1.441312  1.388467  7.702708  LT8\n",
              "5   1.295926  1.271004  1.063091  1.163535  1.641462  6.435019  LT8\n",
              "6   1.462974  1.880509  1.225227  1.951625  1.071737  7.592072  LT8\n",
              "7   1.977173  1.384494  1.090207  1.085897  1.275701  6.813472  LT8\n",
              "8   1.627626  1.631713  1.563403  1.283123  1.603530  7.709395  LT8\n",
              "9   1.542176  1.915236  1.601700  1.025136  1.411964  7.496211  LT8\n",
              "10  1.095401  1.819092  1.334673  1.357875  1.485555  7.092597  LT8\n",
              "11  1.230578  1.028582  1.078571  1.900771  1.021359  6.259861  LT8\n",
              "12  1.986806  1.586716  1.014469  1.441604  1.412298  7.441893  LT8\n",
              "13  1.883247  1.154597  1.184034  1.136822  1.541565  6.900265  LT8\n",
              "14  1.820035  1.408478  1.554128  1.263667  1.918815  7.965123  LT8\n",
              "15  1.724177  1.994911  1.433082  1.019157  1.862594  8.033921  GT8\n",
              "16  1.049950  1.823747  1.758658  1.746612  1.096887  7.475853  LT8\n",
              "17  1.301796  1.700560  1.620778  1.628696  1.427274  7.679105  LT8\n",
              "18  1.369890  1.623797  1.440703  1.760324  1.113295  7.308010  LT8\n",
              "19  1.675150  1.435972  1.358026  1.964171  1.624672  8.057992  GT8"
            ],
            "text/html": [
              "\n",
              "  <div id=\"df-f916eeb2-d52b-4a9f-991a-c10ede07c0d3\">\n",
              "    <div class=\"colab-df-container\">\n",
              "      <div>\n",
              "<style scoped>\n",
              "    .dataframe tbody tr th:only-of-type {\n",
              "        vertical-align: middle;\n",
              "    }\n",
              "\n",
              "    .dataframe tbody tr th {\n",
              "        vertical-align: top;\n",
              "    }\n",
              "\n",
              "    .dataframe thead th {\n",
              "        text-align: right;\n",
              "    }\n",
              "</style>\n",
              "<table border=\"1\" class=\"dataframe\">\n",
              "  <thead>\n",
              "    <tr style=\"text-align: right;\">\n",
              "      <th></th>\n",
              "      <th>a</th>\n",
              "      <th>b</th>\n",
              "      <th>c</th>\n",
              "      <th>d</th>\n",
              "      <th>e</th>\n",
              "      <th>f</th>\n",
              "      <th>g</th>\n",
              "    </tr>\n",
              "  </thead>\n",
              "  <tbody>\n",
              "    <tr>\n",
              "      <th>0</th>\n",
              "      <td>1.467632</td>\n",
              "      <td>1.560377</td>\n",
              "      <td>1.675012</td>\n",
              "      <td>1.536802</td>\n",
              "      <td>1.981958</td>\n",
              "      <td>8.221781</td>\n",
              "      <td>GT8</td>\n",
              "    </tr>\n",
              "    <tr>\n",
              "      <th>1</th>\n",
              "      <td>1.025939</td>\n",
              "      <td>1.109358</td>\n",
              "      <td>1.674585</td>\n",
              "      <td>1.396428</td>\n",
              "      <td>1.390655</td>\n",
              "      <td>6.596964</td>\n",
              "      <td>LT8</td>\n",
              "    </tr>\n",
              "    <tr>\n",
              "      <th>2</th>\n",
              "      <td>1.316056</td>\n",
              "      <td>1.238841</td>\n",
              "      <td>1.394106</td>\n",
              "      <td>1.047283</td>\n",
              "      <td>1.386227</td>\n",
              "      <td>6.382513</td>\n",
              "      <td>LT8</td>\n",
              "    </tr>\n",
              "    <tr>\n",
              "      <th>3</th>\n",
              "      <td>1.220308</td>\n",
              "      <td>1.176453</td>\n",
              "      <td>1.822490</td>\n",
              "      <td>1.845280</td>\n",
              "      <td>1.280400</td>\n",
              "      <td>7.344931</td>\n",
              "      <td>LT8</td>\n",
              "    </tr>\n",
              "    <tr>\n",
              "      <th>4</th>\n",
              "      <td>1.791812</td>\n",
              "      <td>1.421511</td>\n",
              "      <td>1.659606</td>\n",
              "      <td>1.441312</td>\n",
              "      <td>1.388467</td>\n",
              "      <td>7.702708</td>\n",
              "      <td>LT8</td>\n",
              "    </tr>\n",
              "    <tr>\n",
              "      <th>5</th>\n",
              "      <td>1.295926</td>\n",
              "      <td>1.271004</td>\n",
              "      <td>1.063091</td>\n",
              "      <td>1.163535</td>\n",
              "      <td>1.641462</td>\n",
              "      <td>6.435019</td>\n",
              "      <td>LT8</td>\n",
              "    </tr>\n",
              "    <tr>\n",
              "      <th>6</th>\n",
              "      <td>1.462974</td>\n",
              "      <td>1.880509</td>\n",
              "      <td>1.225227</td>\n",
              "      <td>1.951625</td>\n",
              "      <td>1.071737</td>\n",
              "      <td>7.592072</td>\n",
              "      <td>LT8</td>\n",
              "    </tr>\n",
              "    <tr>\n",
              "      <th>7</th>\n",
              "      <td>1.977173</td>\n",
              "      <td>1.384494</td>\n",
              "      <td>1.090207</td>\n",
              "      <td>1.085897</td>\n",
              "      <td>1.275701</td>\n",
              "      <td>6.813472</td>\n",
              "      <td>LT8</td>\n",
              "    </tr>\n",
              "    <tr>\n",
              "      <th>8</th>\n",
              "      <td>1.627626</td>\n",
              "      <td>1.631713</td>\n",
              "      <td>1.563403</td>\n",
              "      <td>1.283123</td>\n",
              "      <td>1.603530</td>\n",
              "      <td>7.709395</td>\n",
              "      <td>LT8</td>\n",
              "    </tr>\n",
              "    <tr>\n",
              "      <th>9</th>\n",
              "      <td>1.542176</td>\n",
              "      <td>1.915236</td>\n",
              "      <td>1.601700</td>\n",
              "      <td>1.025136</td>\n",
              "      <td>1.411964</td>\n",
              "      <td>7.496211</td>\n",
              "      <td>LT8</td>\n",
              "    </tr>\n",
              "    <tr>\n",
              "      <th>10</th>\n",
              "      <td>1.095401</td>\n",
              "      <td>1.819092</td>\n",
              "      <td>1.334673</td>\n",
              "      <td>1.357875</td>\n",
              "      <td>1.485555</td>\n",
              "      <td>7.092597</td>\n",
              "      <td>LT8</td>\n",
              "    </tr>\n",
              "    <tr>\n",
              "      <th>11</th>\n",
              "      <td>1.230578</td>\n",
              "      <td>1.028582</td>\n",
              "      <td>1.078571</td>\n",
              "      <td>1.900771</td>\n",
              "      <td>1.021359</td>\n",
              "      <td>6.259861</td>\n",
              "      <td>LT8</td>\n",
              "    </tr>\n",
              "    <tr>\n",
              "      <th>12</th>\n",
              "      <td>1.986806</td>\n",
              "      <td>1.586716</td>\n",
              "      <td>1.014469</td>\n",
              "      <td>1.441604</td>\n",
              "      <td>1.412298</td>\n",
              "      <td>7.441893</td>\n",
              "      <td>LT8</td>\n",
              "    </tr>\n",
              "    <tr>\n",
              "      <th>13</th>\n",
              "      <td>1.883247</td>\n",
              "      <td>1.154597</td>\n",
              "      <td>1.184034</td>\n",
              "      <td>1.136822</td>\n",
              "      <td>1.541565</td>\n",
              "      <td>6.900265</td>\n",
              "      <td>LT8</td>\n",
              "    </tr>\n",
              "    <tr>\n",
              "      <th>14</th>\n",
              "      <td>1.820035</td>\n",
              "      <td>1.408478</td>\n",
              "      <td>1.554128</td>\n",
              "      <td>1.263667</td>\n",
              "      <td>1.918815</td>\n",
              "      <td>7.965123</td>\n",
              "      <td>LT8</td>\n",
              "    </tr>\n",
              "    <tr>\n",
              "      <th>15</th>\n",
              "      <td>1.724177</td>\n",
              "      <td>1.994911</td>\n",
              "      <td>1.433082</td>\n",
              "      <td>1.019157</td>\n",
              "      <td>1.862594</td>\n",
              "      <td>8.033921</td>\n",
              "      <td>GT8</td>\n",
              "    </tr>\n",
              "    <tr>\n",
              "      <th>16</th>\n",
              "      <td>1.049950</td>\n",
              "      <td>1.823747</td>\n",
              "      <td>1.758658</td>\n",
              "      <td>1.746612</td>\n",
              "      <td>1.096887</td>\n",
              "      <td>7.475853</td>\n",
              "      <td>LT8</td>\n",
              "    </tr>\n",
              "    <tr>\n",
              "      <th>17</th>\n",
              "      <td>1.301796</td>\n",
              "      <td>1.700560</td>\n",
              "      <td>1.620778</td>\n",
              "      <td>1.628696</td>\n",
              "      <td>1.427274</td>\n",
              "      <td>7.679105</td>\n",
              "      <td>LT8</td>\n",
              "    </tr>\n",
              "    <tr>\n",
              "      <th>18</th>\n",
              "      <td>1.369890</td>\n",
              "      <td>1.623797</td>\n",
              "      <td>1.440703</td>\n",
              "      <td>1.760324</td>\n",
              "      <td>1.113295</td>\n",
              "      <td>7.308010</td>\n",
              "      <td>LT8</td>\n",
              "    </tr>\n",
              "    <tr>\n",
              "      <th>19</th>\n",
              "      <td>1.675150</td>\n",
              "      <td>1.435972</td>\n",
              "      <td>1.358026</td>\n",
              "      <td>1.964171</td>\n",
              "      <td>1.624672</td>\n",
              "      <td>8.057992</td>\n",
              "      <td>GT8</td>\n",
              "    </tr>\n",
              "  </tbody>\n",
              "</table>\n",
              "</div>\n",
              "      <button class=\"colab-df-convert\" onclick=\"convertToInteractive('df-f916eeb2-d52b-4a9f-991a-c10ede07c0d3')\"\n",
              "              title=\"Convert this dataframe to an interactive table.\"\n",
              "              style=\"display:none;\">\n",
              "        \n",
              "  <svg xmlns=\"http://www.w3.org/2000/svg\" height=\"24px\"viewBox=\"0 0 24 24\"\n",
              "       width=\"24px\">\n",
              "    <path d=\"M0 0h24v24H0V0z\" fill=\"none\"/>\n",
              "    <path d=\"M18.56 5.44l.94 2.06.94-2.06 2.06-.94-2.06-.94-.94-2.06-.94 2.06-2.06.94zm-11 1L8.5 8.5l.94-2.06 2.06-.94-2.06-.94L8.5 2.5l-.94 2.06-2.06.94zm10 10l.94 2.06.94-2.06 2.06-.94-2.06-.94-.94-2.06-.94 2.06-2.06.94z\"/><path d=\"M17.41 7.96l-1.37-1.37c-.4-.4-.92-.59-1.43-.59-.52 0-1.04.2-1.43.59L10.3 9.45l-7.72 7.72c-.78.78-.78 2.05 0 2.83L4 21.41c.39.39.9.59 1.41.59.51 0 1.02-.2 1.41-.59l7.78-7.78 2.81-2.81c.8-.78.8-2.07 0-2.86zM5.41 20L4 18.59l7.72-7.72 1.47 1.35L5.41 20z\"/>\n",
              "  </svg>\n",
              "      </button>\n",
              "      \n",
              "  <style>\n",
              "    .colab-df-container {\n",
              "      display:flex;\n",
              "      flex-wrap:wrap;\n",
              "      gap: 12px;\n",
              "    }\n",
              "\n",
              "    .colab-df-convert {\n",
              "      background-color: #E8F0FE;\n",
              "      border: none;\n",
              "      border-radius: 50%;\n",
              "      cursor: pointer;\n",
              "      display: none;\n",
              "      fill: #1967D2;\n",
              "      height: 32px;\n",
              "      padding: 0 0 0 0;\n",
              "      width: 32px;\n",
              "    }\n",
              "\n",
              "    .colab-df-convert:hover {\n",
              "      background-color: #E2EBFA;\n",
              "      box-shadow: 0px 1px 2px rgba(60, 64, 67, 0.3), 0px 1px 3px 1px rgba(60, 64, 67, 0.15);\n",
              "      fill: #174EA6;\n",
              "    }\n",
              "\n",
              "    [theme=dark] .colab-df-convert {\n",
              "      background-color: #3B4455;\n",
              "      fill: #D2E3FC;\n",
              "    }\n",
              "\n",
              "    [theme=dark] .colab-df-convert:hover {\n",
              "      background-color: #434B5C;\n",
              "      box-shadow: 0px 1px 3px 1px rgba(0, 0, 0, 0.15);\n",
              "      filter: drop-shadow(0px 1px 2px rgba(0, 0, 0, 0.3));\n",
              "      fill: #FFFFFF;\n",
              "    }\n",
              "  </style>\n",
              "\n",
              "      <script>\n",
              "        const buttonEl =\n",
              "          document.querySelector('#df-f916eeb2-d52b-4a9f-991a-c10ede07c0d3 button.colab-df-convert');\n",
              "        buttonEl.style.display =\n",
              "          google.colab.kernel.accessAllowed ? 'block' : 'none';\n",
              "\n",
              "        async function convertToInteractive(key) {\n",
              "          const element = document.querySelector('#df-f916eeb2-d52b-4a9f-991a-c10ede07c0d3');\n",
              "          const dataTable =\n",
              "            await google.colab.kernel.invokeFunction('convertToInteractive',\n",
              "                                                     [key], {});\n",
              "          if (!dataTable) return;\n",
              "\n",
              "          const docLinkHtml = 'Like what you see? Visit the ' +\n",
              "            '<a target=\"_blank\" href=https://colab.research.google.com/notebooks/data_table.ipynb>data table notebook</a>'\n",
              "            + ' to learn more about interactive tables.';\n",
              "          element.innerHTML = '';\n",
              "          dataTable['output_type'] = 'display_data';\n",
              "          await google.colab.output.renderOutput(dataTable, element);\n",
              "          const docLink = document.createElement('div');\n",
              "          docLink.innerHTML = docLinkHtml;\n",
              "          element.appendChild(docLink);\n",
              "        }\n",
              "      </script>\n",
              "    </div>\n",
              "  </div>\n",
              "  "
            ]
          },
          "metadata": {},
          "execution_count": 18
        }
      ]
    },
    {
      "cell_type": "code",
      "source": [
        "s_pd['g'].value_counts()['LT8']"
      ],
      "metadata": {
        "colab": {
          "base_uri": "https://localhost:8080/"
        },
        "id": "4UHp7NW41eOx",
        "outputId": "7bf59ab8-394d-4ad9-cbca-c459e20f6118"
      },
      "execution_count": 19,
      "outputs": [
        {
          "output_type": "execute_result",
          "data": {
            "text/plain": [
              "17"
            ]
          },
          "metadata": {},
          "execution_count": 19
        }
      ]
    },
    {
      "cell_type": "code",
      "source": [
        "print(\"standard deviation of 'g' with values LT8: \", s_pd[s_pd['g']=='LT8']['f'].std())"
      ],
      "metadata": {
        "colab": {
          "base_uri": "https://localhost:8080/"
        },
        "id": "I_s0lPnPG_RB",
        "outputId": "ba33c8a3-d91b-4489-9876-5aa29344181f"
      },
      "execution_count": 22,
      "outputs": [
        {
          "output_type": "stream",
          "name": "stdout",
          "text": [
            "standard deviation of 'g' with values LT8:  0.5294583826456633\n"
          ]
        }
      ]
    },
    {
      "cell_type": "code",
      "source": [
        "print(\"standard deviation of 'g' with values GT8: \", s_pd[s_pd['g']=='GT8']['f'].std())"
      ],
      "metadata": {
        "colab": {
          "base_uri": "https://localhost:8080/"
        },
        "id": "Lb3Y_Tq6IK7D",
        "outputId": "27fb9f7c-1995-4bb1-a032-1eb286a6386d"
      },
      "execution_count": 23,
      "outputs": [
        {
          "output_type": "stream",
          "name": "stdout",
          "text": [
            "standard deviation of 'g' with values GT8:  0.10222304884662686\n"
          ]
        }
      ]
    },
    {
      "cell_type": "code",
      "source": [],
      "metadata": {
        "id": "SGu55N3jI0jE"
      },
      "execution_count": null,
      "outputs": []
    },
    {
      "cell_type": "markdown",
      "source": [
        "**Answer 12:**"
      ],
      "metadata": {
        "id": "tBYUmWQC78cW"
      }
    },
    {
      "cell_type": "code",
      "source": [
        "#broadcasting\n",
        "\n",
        "import numpy as np\n",
        "\n",
        "#scalar and array\n",
        "array = np.array([3,4,5])\n",
        "add = 8\n",
        "bd = array+add\n",
        "print(\"array after broadcasting: \",bd)\n",
        "print()\n",
        "\n",
        "#2d array and vector\n",
        "array1 = np.array([[1, 2, 3], [4, 5, 6]])\n",
        "add1 = x = np.array([[0, 2, 3]])\n",
        "bd1 = array1+add1\n",
        "print(\"2d array after broadcasting: \",bd1)"
      ],
      "metadata": {
        "id": "0q8DutPU5gyI",
        "colab": {
          "base_uri": "https://localhost:8080/"
        },
        "outputId": "07440390-a059-47d0-8164-872cbb472ec4"
      },
      "execution_count": 1,
      "outputs": [
        {
          "output_type": "stream",
          "name": "stdout",
          "text": [
            "array after broadcasting:  [11 12 13]\n",
            "\n",
            "2d array after broadcasting:  [[1 4 6]\n",
            " [4 7 9]]\n"
          ]
        }
      ]
    },
    {
      "cell_type": "code",
      "source": [],
      "metadata": {
        "id": "3_Wn0KqYp3XH"
      },
      "execution_count": null,
      "outputs": []
    },
    {
      "cell_type": "markdown",
      "source": [
        "**Answer 13:**"
      ],
      "metadata": {
        "id": "Sqlq8gVPI-Hb"
      }
    },
    {
      "cell_type": "code",
      "source": [
        "import numpy as np\n",
        "\n",
        "def func_argmin(arr):\n",
        "  min_val = arr[0]\n",
        "  min_index = 0\n",
        "  \n",
        "  # Iterate through the array\n",
        "  for i, val in enumerate(arr):\n",
        "    \n",
        "    if val < min_val:\n",
        "      min_val = val\n",
        "      min_index = i\n",
        "      \n",
        "  return min_index\n",
        "\n",
        "arr = np.array([[4, 2, 3],[9,7,3],[0,8,7]])\n",
        "min_index = func_argmin(arr.flatten())\n",
        "print(\"Min index by our function: \",min_index) "
      ],
      "metadata": {
        "id": "hV4Ipbz_0YcP",
        "colab": {
          "base_uri": "https://localhost:8080/"
        },
        "outputId": "e26473fc-cd82-4828-a660-fd1c10ee379e"
      },
      "execution_count": null,
      "outputs": [
        {
          "output_type": "stream",
          "name": "stdout",
          "text": [
            "Min index by our function:  6\n"
          ]
        }
      ]
    },
    {
      "cell_type": "code",
      "source": [
        "print(\"Min index by argmin function: \",np.argmin(arr)) "
      ],
      "metadata": {
        "colab": {
          "base_uri": "https://localhost:8080/"
        },
        "id": "111vdU6kUobr",
        "outputId": "79b05cc5-e06b-4a1b-b288-7e8102efd0e2"
      },
      "execution_count": null,
      "outputs": [
        {
          "output_type": "stream",
          "name": "stdout",
          "text": [
            "Min index by argmin function:  6\n"
          ]
        }
      ]
    },
    {
      "cell_type": "code",
      "source": [],
      "metadata": {
        "id": "-BpGATN3XYKN"
      },
      "execution_count": null,
      "outputs": []
    }
  ]
}